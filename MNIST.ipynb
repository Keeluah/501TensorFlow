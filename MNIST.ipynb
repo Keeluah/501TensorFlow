{
  "nbformat": 4,
  "nbformat_minor": 0,
  "metadata": {
    "colab": {
      "name": "MNISTStarter.ipynb",
      "provenance": [],
      "collapsed_sections": []
    },
    "kernelspec": {
      "name": "python3",
      "display_name": "Python 3"
    }
  },
  "cells": [
    {
      "cell_type": "code",
      "metadata": {
        "id": "m4eZDEIAx0aH",
        "colab_type": "code",
        "colab": {}
      },
      "source": [
        "try:\n",
        "  # %tensorflow_version only exists in Colab.\n",
        "  %tensorflow_version 2.x\n",
        "except Exception:\n",
        "  pass"
      ],
      "execution_count": 0,
      "outputs": []
    },
    {
      "cell_type": "code",
      "metadata": {
        "id": "ITCcIDcJx02Q",
        "colab_type": "code",
        "colab": {
          "base_uri": "https://localhost:8080/",
          "height": 680
        },
        "outputId": "a58f6517-c6c3-4f25-e791-9d823904846a"
      },
      "source": [
        "import tensorflow as tf\n",
        "\n",
        "print(\"--Get data--\")\n",
        "mnist = tf.keras.datasets.mnist\n",
        "(x_train, y_train), (x_test, y_test) = mnist.load_data()\n",
        "\n",
        "print(\"--Process data--\")\n",
        "x_train, x_test = x_train /255.0, x_test / 255.0\n",
        "\n",
        "print(\"--Make model--\")\n",
        "model = tf.keras.models.Sequential([\n",
        "  tf.keras.layers.Dense(32, activation='sigmoid'),\n",
        "  tf.keras.layers.Flatten(input_shape=(28, 28)),\n",
        "  tf.keras.layers.Dense(128, activation='sigmoid'),\n",
        "  tf.keras.layers.Flatten(input_shape=(28, 28)),\n",
        "  tf.keras.layers.Dense(10, activation='sigmoid')\n",
        "])\n",
        "model.compile(optimizer='adam', loss='sparse_categorical_crossentropy', metrics=['accuracy'])\n",
        "\n",
        "\n",
        "print(\"--Fit model--\")\n",
        "model.fit(x_train, y_train, epochs=15)\n",
        "\n",
        "print(\"--Evaluate model--\")\n",
        "model_loss, model_acc = model.evaluate(x_test,  y_test, verbose=2)\n",
        "print(f\"Model Loss:    {model_loss:.2f}\")\n",
        "print(f\"Model Accuray: {model_acc*100:.1f}%\")"
      ],
      "execution_count": 41,
      "outputs": [
        {
          "output_type": "stream",
          "text": [
            "--Get data--\n",
            "--Process data--\n",
            "--Make model--\n",
            "--Fit model--\n",
            "Train on 60000 samples\n",
            "Epoch 1/15\n",
            "60000/60000 [==============================] - 8s 131us/sample - loss: 0.5581 - accuracy: 0.8358\n",
            "Epoch 2/15\n",
            "60000/60000 [==============================] - 8s 127us/sample - loss: 0.2212 - accuracy: 0.9337\n",
            "Epoch 3/15\n",
            "60000/60000 [==============================] - 7s 118us/sample - loss: 0.1626 - accuracy: 0.9508\n",
            "Epoch 4/15\n",
            "60000/60000 [==============================] - 7s 117us/sample - loss: 0.1279 - accuracy: 0.9621\n",
            "Epoch 5/15\n",
            "60000/60000 [==============================] - 7s 119us/sample - loss: 0.1056 - accuracy: 0.9689\n",
            "Epoch 6/15\n",
            "60000/60000 [==============================] - 7s 118us/sample - loss: 0.0897 - accuracy: 0.9735\n",
            "Epoch 7/15\n",
            "60000/60000 [==============================] - 7s 119us/sample - loss: 0.0778 - accuracy: 0.9769\n",
            "Epoch 8/15\n",
            "60000/60000 [==============================] - 7s 119us/sample - loss: 0.0689 - accuracy: 0.9795\n",
            "Epoch 9/15\n",
            "60000/60000 [==============================] - 7s 118us/sample - loss: 0.0604 - accuracy: 0.9823\n",
            "Epoch 10/15\n",
            "60000/60000 [==============================] - 7s 125us/sample - loss: 0.0536 - accuracy: 0.9838\n",
            "Epoch 11/15\n",
            "60000/60000 [==============================] - 8s 125us/sample - loss: 0.0478 - accuracy: 0.9862\n",
            "Epoch 12/15\n",
            "60000/60000 [==============================] - 8s 126us/sample - loss: 0.0436 - accuracy: 0.9872\n",
            "Epoch 13/15\n",
            "60000/60000 [==============================] - 10s 169us/sample - loss: 0.0391 - accuracy: 0.9878\n",
            "Epoch 14/15\n",
            "60000/60000 [==============================] - 10s 167us/sample - loss: 0.0341 - accuracy: 0.9898\n",
            "Epoch 15/15\n",
            "60000/60000 [==============================] - 10s 165us/sample - loss: 0.0307 - accuracy: 0.9915\n",
            "--Evaluate model--\n",
            "10000/1 - 1s - loss: 0.0341 - accuracy: 0.9815\n",
            "Model Loss:    0.06\n",
            "Model Accuray: 98.2%\n"
          ],
          "name": "stdout"
        }
      ]
    },
    {
      "cell_type": "code",
      "metadata": {
        "id": "uqKuNbSJEaWc",
        "colab_type": "code",
        "colab": {}
      },
      "source": [
        "#Save Model to MNIST.h5\n",
        "model.save('MINST.h5')\n"
      ],
      "execution_count": 0,
      "outputs": []
    },
    {
      "cell_type": "code",
      "metadata": {
        "id": "0Vc4ePZwERJW",
        "colab_type": "code",
        "colab": {}
      },
      "source": [
        "from google.colab import files\n",
        "files.download('MNIST.h5')"
      ],
      "execution_count": 0,
      "outputs": []
    },
    {
      "cell_type": "code",
      "metadata": {
        "id": "vBovbdoX59f7",
        "colab_type": "code",
        "colab": {}
      },
      "source": [
        ""
      ],
      "execution_count": 0,
      "outputs": []
    }
  ]
}