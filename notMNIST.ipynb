{
  "nbformat": 4,
  "nbformat_minor": 0,
  "metadata": {
    "colab": {
      "name": "notMNISTStarter.ipynb",
      "provenance": [],
      "collapsed_sections": []
    },
    "kernelspec": {
      "name": "python3",
      "display_name": "Python 3"
    }
  },
  "cells": [
    {
      "cell_type": "code",
      "metadata": {
        "id": "Z1o4PRH6KJuJ",
        "colab_type": "code",
        "colab": {}
      },
      "source": [
        "try:\n",
        "  # %tensorflow_version only exists in Colab.\n",
        "  %tensorflow_version 2.x\n",
        "except Exception:\n",
        "  pass"
      ],
      "execution_count": 0,
      "outputs": []
    },
    {
      "cell_type": "markdown",
      "metadata": {
        "id": "w4ughi_1E4dp",
        "colab_type": "text"
      },
      "source": [
        "Upload notMNIST.npz"
      ]
    },
    {
      "cell_type": "code",
      "metadata": {
        "id": "S4eVDT0IKKbh",
        "colab_type": "code",
        "colab": {}
      },
      "source": [
        "from google.colab import files\n",
        "uploaded = files.upload()"
      ],
      "execution_count": 0,
      "outputs": []
    },
    {
      "cell_type": "code",
      "metadata": {
        "id": "UmlX83--KT6M",
        "colab_type": "code",
        "colab": {
          "base_uri": "https://localhost:8080/",
          "height": 697
        },
        "outputId": "ec60125c-7652-4a16-ee2e-609671759e50"
      },
      "source": [
        "import tensorflow as tf\n",
        "import numpy as np\n",
        "\n",
        "print(\"--Get data--\")\n",
        "with np.load(\"notMNIST.npz\", allow_pickle=True) as f:\n",
        "    x_train, y_train = f['x_train'], f['y_train']\n",
        "    x_test, y_test = f['x_test'], f['y_test']\n",
        "\n",
        "print(\"--Process data--\")\n",
        "print(len(y_train))\n",
        "x_train, x_test = x_train / 255.0, x_test / 255.0\n",
        " \n",
        "print(\"--Make model--\")\n",
        "model = tf.keras.models.Sequential([\n",
        "  tf.keras.layers.Flatten(input_shape=(28, 28)),\n",
        "  tf.keras.layers.Dense(32, activation='sigmoid'),\n",
        "  tf.keras.layers.Flatten(input_shape=(28, 28)),\n",
        "  tf.keras.layers.Dense(128, activation='sigmoid'),\n",
        "  tf.keras.layers.Flatten(input_shape=(28, 28)),\n",
        "  tf.keras.layers.Dense(10, activation='sigmoid')\n",
        "])\n",
        "model.compile(optimizer='adam', loss='sparse_categorical_crossentropy', metrics=['accuracy'])\n",
        "\n",
        "print(\"--Fit model--\")\n",
        "model.fit(x_train, y_train, epochs=15, verbose=2)\n",
        "\n",
        "print(\"--Evaluate model--\")\n",
        "model_loss, model_acc = model.evaluate(x_test,  y_test, verbose=2)\n",
        "print(f\"Model Loss:    {model_loss:.2f}\")\n",
        "print(f\"Model Accuray: {model_acc*100:.1f}%\")"
      ],
      "execution_count": 16,
      "outputs": [
        {
          "output_type": "stream",
          "text": [
            "--Get data--\n",
            "--Process data--\n",
            "60000\n",
            "--Make model--\n",
            "--Fit model--\n",
            "Train on 60000 samples\n",
            "Epoch 1/15\n",
            "60000/60000 - 4s - loss: 0.8337 - accuracy: 0.7848\n",
            "Epoch 2/15\n",
            "60000/60000 - 4s - loss: 0.5664 - accuracy: 0.8400\n",
            "Epoch 3/15\n",
            "60000/60000 - 4s - loss: 0.5255 - accuracy: 0.8482\n",
            "Epoch 4/15\n",
            "60000/60000 - 4s - loss: 0.4991 - accuracy: 0.8535\n",
            "Epoch 5/15\n",
            "60000/60000 - 4s - loss: 0.4797 - accuracy: 0.8578\n",
            "Epoch 6/15\n",
            "60000/60000 - 4s - loss: 0.4632 - accuracy: 0.8611\n",
            "Epoch 7/15\n",
            "60000/60000 - 4s - loss: 0.4499 - accuracy: 0.8653\n",
            "Epoch 8/15\n",
            "60000/60000 - 4s - loss: 0.4389 - accuracy: 0.8676\n",
            "Epoch 9/15\n",
            "60000/60000 - 4s - loss: 0.4286 - accuracy: 0.8694\n",
            "Epoch 10/15\n",
            "60000/60000 - 4s - loss: 0.4183 - accuracy: 0.8726\n",
            "Epoch 11/15\n",
            "60000/60000 - 4s - loss: 0.4115 - accuracy: 0.8745\n",
            "Epoch 12/15\n",
            "60000/60000 - 4s - loss: 0.4028 - accuracy: 0.8774\n",
            "Epoch 13/15\n",
            "60000/60000 - 4s - loss: 0.3957 - accuracy: 0.8784\n",
            "Epoch 14/15\n",
            "60000/60000 - 4s - loss: 0.3903 - accuracy: 0.8803\n",
            "Epoch 15/15\n",
            "60000/60000 - 4s - loss: 0.3829 - accuracy: 0.8828\n",
            "--Evaluate model--\n",
            "10000/1 - 0s - loss: 0.1472 - accuracy: 0.9188\n",
            "Model Loss:    0.28\n",
            "Model Accuray: 91.9%\n"
          ],
          "name": "stdout"
        }
      ]
    },
    {
      "cell_type": "code",
      "metadata": {
        "id": "FqOYMbbzEwUt",
        "colab_type": "code",
        "colab": {}
      },
      "source": [
        "#Save Model to notMNIST.h5\n",
        "model.save('notMNIST.h5')"
      ],
      "execution_count": 0,
      "outputs": []
    },
    {
      "cell_type": "code",
      "metadata": {
        "id": "03ZLaLRVEweP",
        "colab_type": "code",
        "colab": {}
      },
      "source": [
        "from google.colab import files\n",
        "files.download('notMNIST.h5')"
      ],
      "execution_count": 0,
      "outputs": []
    }
  ]
}